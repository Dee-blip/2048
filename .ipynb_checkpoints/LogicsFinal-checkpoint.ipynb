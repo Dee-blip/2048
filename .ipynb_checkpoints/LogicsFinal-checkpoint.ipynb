{
 "cells": [
  {
   "cell_type": "raw",
   "id": "db60c078",
   "metadata": {},
   "source": [
    "four moments allowned RLUD - aim to reach 2048- by moving LRUD  we have to create 512 - 4times - adding random 2 number in the box after the movement"
   ]
  },
  {
   "cell_type": "code",
   "execution_count": 60,
   "id": "017ebbf6",
   "metadata": {},
   "outputs": [],
   "source": [
    "import random\n",
    "def start_game():\n",
    "    mat = []\n",
    "    for i in range(4):\n",
    "        mat.append([0]*4)\n",
    "    return mat\n",
    "\n",
    "def add_new_2(mat):\n",
    "    \n",
    "    r = random.randint(0,3)\n",
    "    c = random.randint(0,3)\n",
    "    while(mat[r][c] != 0):\n",
    "        r = random.randint(0,3)\n",
    "        c = random.randint(0,3)\n",
    "    mat[r][c] = 2\n",
    "\n",
    "def reverse(mat):\n",
    "    new_mat = []\n",
    "    for i in range(4):\n",
    "        new_mat.append([])\n",
    "        for j in range(4):\n",
    "            new_mat[i].append(mat[i][4-j-1])\n",
    "    \n",
    "    return new_mat\n",
    "\n",
    "def transpose(mat):\n",
    "    \n",
    "    new_mat = []\n",
    "    for i in range(4):\n",
    "        new_mat.append([])\n",
    "        for j in range(4):\n",
    "            new_mat[i].append(mat[j][i])\n",
    "    return new_mat\n",
    "\n",
    "def merge(mat):\n",
    "    changed = False\n",
    "    for i in range(4):\n",
    "        for j in range(3):\n",
    "            if mat[i][j] == mat[i][j+1] and mat[i][j]!=0:\n",
    "                mat[i][j] = mat[i][j]*2\n",
    "                mat[i][j+1] = 0\n",
    "                changed = True\n",
    "    return mat,changed\n",
    "            \n",
    "def compress(mat):\n",
    "    \n",
    "    changed = False\n",
    "    new_mat = []\n",
    "    for i in range(4):\n",
    "        new_mat.append([0]*4)\n",
    "    \n",
    "    for i in range(4):\n",
    "        pos = 0\n",
    "        for j in range(4):\n",
    "            if mat[i][j] != 0:\n",
    "                new_mat[i][pos] = mat[i][j]\n",
    "                if j!= pos:\n",
    "                    changed = True\n",
    "                pos+=1\n",
    "    return new_mat,changed\n",
    "\n",
    "def move_up(grid):\n",
    "    transposed_grid = transpose(grid)\n",
    "    new_grid,changed1 = compress(transposed_grid)\n",
    "    new_grid,changed2 = merge(new_grid)\n",
    "    changed = changed1 or changed2\n",
    "    new_grid,temp = compress(new_grid)\n",
    "    final_grid = transpose(new_grid)\n",
    "    return final_grid,changed\n",
    "\n",
    "def move_down(grid):\n",
    "    transposed_grid = transpose(grid)\n",
    "    reversed_grid = reverse(transposed_grid)\n",
    "    new_grid,changed1 = compress(reversed_grid)\n",
    "    new_grid,changed2 = merge(new_grid)\n",
    "    changed = changed1 or changed2\n",
    "    new_grid,temp = compress(new_grid)\n",
    "    final_reversed_grid = reverse(new_grid)\n",
    "    final_grid = transpose(final_reversed_grid)\n",
    "    return final_grid,changed\n",
    "\n",
    "def move_right(grid):\n",
    "    \n",
    "    reversed_grid = reverse(grid)\n",
    "    new_grid,changed1 = compress(reversed_grid)\n",
    "    new_grid,changed2 = merge(new_grid)\n",
    "    changed = changed1 or changed2\n",
    "    new_grid,temp = compress(new_grid)\n",
    "    final_grid = reverse(new_grid)\n",
    "    return final_grid,changed\n",
    "\n",
    "def move_left(grid):\n",
    "    new_grid,changed1 = compress(grid)\n",
    "    new_grid,changed2 = merge(new_grid)\n",
    "    changed = changed1 or changed2\n",
    "    new_grid,temp = compress(new_grid)\n",
    "    return new_grid,changed\n",
    "\n",
    "    \n",
    "def get_current_state(mat):\n",
    "    # Anywhere 2048 is present\n",
    "    for i in range(4):\n",
    "        for j in range(4):\n",
    "            if (mat[i][j] == 2048):\n",
    "                return 'WON'\n",
    "    #Anywhere 0 is present\n",
    "    for i in range(4):\n",
    "        for j in range(4):\n",
    "            if(mat[i][j] == 0):\n",
    "                return 'GAME NOT OVER'\n",
    "    # Every Row and Column except last row and last column\n",
    "    for i in range(3):\n",
    "        for j in range(3):\n",
    "            if(mat[i][j] == mat[i+1][j] or mat[i][j] == mat[i][j+1]):\n",
    "                return 'GAME NOT OVER'\n",
    "    #Last Row\n",
    "    for j in range(3):\n",
    "        if mat[3][j] == mat[3][j+1]:\n",
    "            return 'GAME NOT OVER'\n",
    "    #Last Column\n",
    "    \n",
    "    for i in range(3):\n",
    "        if mat[i][3] == mat[i+1][3]:\n",
    "            return 'GAME NOT OVER'\n",
    "        \n",
    "    return 'LOST'"
   ]
  },
  {
   "cell_type": "code",
   "execution_count": 61,
   "id": "0e62b644",
   "metadata": {},
   "outputs": [
    {
     "name": "stdout",
     "output_type": "stream",
     "text": [
      "[[0, 0, 0, 0], [0, 0, 0, 0], [0, 0, 0, 0], [0, 0, 0, 0]]\n"
     ]
    }
   ],
   "source": [
    "mat=start_game()\n",
    "print(mat)"
   ]
  },
  {
   "cell_type": "code",
   "execution_count": 62,
   "id": "ac97847f",
   "metadata": {},
   "outputs": [
    {
     "name": "stdout",
     "output_type": "stream",
     "text": [
      "[[0, 0, 0, 0], [0, 0, 0, 2], [0, 0, 0, 0], [0, 0, 0, 0]]\n"
     ]
    }
   ],
   "source": [
    "add_new_2(mat)\n",
    "print(mat)"
   ]
  },
  {
   "cell_type": "code",
   "execution_count": 63,
   "id": "8d59c40c",
   "metadata": {},
   "outputs": [
    {
     "name": "stdout",
     "output_type": "stream",
     "text": [
      "[[0, 0, 2, 0], [0, 0, 0, 2], [0, 0, 0, 0], [0, 0, 0, 0]]\n"
     ]
    }
   ],
   "source": [
    "add_new_2(mat)\n",
    "print(mat)"
   ]
  },
  {
   "cell_type": "code",
   "execution_count": 64,
   "id": "2536dd40",
   "metadata": {},
   "outputs": [
    {
     "name": "stdout",
     "output_type": "stream",
     "text": [
      "[[0, 0, 2, 2], [0, 0, 0, 0], [0, 0, 0, 0], [0, 0, 0, 0]]\n"
     ]
    }
   ],
   "source": [
    "mat=move_up(mat)\n",
    "print(mat)"
   ]
  },
  {
   "cell_type": "code",
   "execution_count": 65,
   "id": "a3183bbe",
   "metadata": {},
   "outputs": [
    {
     "name": "stdout",
     "output_type": "stream",
     "text": [
      "[[0, 0, 0, 4], [0, 0, 0, 0], [0, 0, 0, 0], [0, 0, 0, 0]]\n"
     ]
    }
   ],
   "source": [
    "mat=move_right(mat)\n",
    "print(mat)"
   ]
  },
  {
   "cell_type": "code",
   "execution_count": 66,
   "id": "ad79f612",
   "metadata": {},
   "outputs": [
    {
     "name": "stdout",
     "output_type": "stream",
     "text": [
      "[[0, 0, 0, 4], [0, 0, 0, 0], [0, 0, 2, 0], [0, 0, 0, 0]]\n"
     ]
    }
   ],
   "source": [
    "add_new_2(mat)\n",
    "print(mat)"
   ]
  },
  {
   "cell_type": "code",
   "execution_count": 67,
   "id": "0f87d061",
   "metadata": {},
   "outputs": [
    {
     "name": "stdout",
     "output_type": "stream",
     "text": [
      "[[0, 0, 0, 0], [0, 0, 0, 0], [0, 0, 0, 0], [0, 0, 2, 4]]\n"
     ]
    }
   ],
   "source": [
    "mat=move_down(mat)\n",
    "print(mat)"
   ]
  },
  {
   "cell_type": "code",
   "execution_count": 68,
   "id": "58f8da75",
   "metadata": {},
   "outputs": [
    {
     "name": "stdout",
     "output_type": "stream",
     "text": [
      "[[0, 0, 0, 0], [0, 0, 0, 0], [0, 0, 2, 0], [0, 0, 2, 4]]\n"
     ]
    }
   ],
   "source": [
    "add_new_2(mat)\n",
    "print(mat)"
   ]
  },
  {
   "cell_type": "code",
   "execution_count": 69,
   "id": "b417e2f3",
   "metadata": {},
   "outputs": [
    {
     "name": "stdout",
     "output_type": "stream",
     "text": [
      "[[0, 0, 0, 0], [0, 0, 0, 0], [2, 0, 0, 0], [2, 4, 0, 0]]\n"
     ]
    }
   ],
   "source": [
    "mat=move_left(mat)\n",
    "print(mat)"
   ]
  },
  {
   "cell_type": "code",
   "execution_count": null,
   "id": "0841e94e",
   "metadata": {},
   "outputs": [],
   "source": []
  }
 ],
 "metadata": {
  "kernelspec": {
   "display_name": "Python 3 (ipykernel)",
   "language": "python",
   "name": "python3"
  },
  "language_info": {
   "codemirror_mode": {
    "name": "ipython",
    "version": 3
   },
   "file_extension": ".py",
   "mimetype": "text/x-python",
   "name": "python",
   "nbconvert_exporter": "python",
   "pygments_lexer": "ipython3",
   "version": "3.9.13"
  }
 },
 "nbformat": 4,
 "nbformat_minor": 5
}
